{
 "cells": [
  {
   "cell_type": "code",
   "execution_count": 1,
   "metadata": {},
   "outputs": [],
   "source": [
    "class Tensor():\n",
    "    def __init__(self , data):\n",
    "        self.data = data\n",
    "        self.grad = 0.0"
   ]
  },
  {
   "cell_type": "code",
   "execution_count": 4,
   "metadata": {},
   "outputs": [],
   "source": [
    "class Tensor():\n",
    "    def __init__(self , data , _op='' , label=''):\n",
    "        self.data = data\n",
    "        self.grad = 0.0\n",
    "        self._op = _op\n",
    "        self.label = label\n",
    "    \n",
    "    def __repr__(self):\n",
    "        return f\"Tensor(data={self.data}, grad={self.grad})\""
   ]
  },
  {
   "cell_type": "code",
   "execution_count": 6,
   "metadata": {},
   "outputs": [
    {
     "data": {
      "text/plain": [
       "Tensor(data=2.0, grad=0.0)"
      ]
     },
     "execution_count": 6,
     "metadata": {},
     "output_type": "execute_result"
    }
   ],
   "source": [
    "# TESTING\n",
    "x = Tensor(2.0)\n",
    "x"
   ]
  },
  {
   "cell_type": "code",
   "execution_count": 7,
   "metadata": {},
   "outputs": [],
   "source": [
    "import math"
   ]
  },
  {
   "cell_type": "code",
   "execution_count": null,
   "metadata": {},
   "outputs": [],
   "source": [
    "class Tensor():\n",
    "\n",
    "    def __init__(self , data , _children=() , _op='' , label=''):\n",
    "        self.data = data\n",
    "        self.grad = 0.0 \n",
    "        self._op = _op\n",
    "        self._backward = lambda: None  # will be overridden\n",
    "        self._prev = set(_children)\n",
    "        self.label = label\n",
    "\n",
    "    def __repr__(self):\n",
    "        return f\"Tensor(data={self.data} , grad={self.grad})\"\n",
    "    \n",
    "    def __add__(self , other):\n",
    "        other = other if isinstance(other , Tensor) else Tensor(other)\n",
    "        rv = Tensor(self.data + other.data , '+')\n",
    "\n",
    "        def _backward():\n",
    "            self.grad += 1.0 * rv.grad\n",
    "            other.grad += 1.0 * rv.grad\n",
    "        rv._backward = _backward\n",
    "        \n",
    "        return rv\n",
    "    \n",
    "    def __mul__(self, other):\n",
    "        other = other if isinstance(other , Tensor) else Tensor(other)\n",
    "        rv = Tensor(self.data * other.data , '*')\n",
    "\n",
    "        def _backward():\n",
    "            self.grad += other.data * rv.grad\n",
    "            other.grad += self.data * rv.grad\n",
    "        rv._backward = _backward\n",
    "\n",
    "        return rv\n",
    "    \n",
    "    def __pow__(self , other):\n",
    "        assert isinstance(other , (int,float)), \"only supporting int/float powers for now\"\n",
    "        rv = Tensor(self.data**other , (self,) , f'**{other}')\n",
    "\n",
    "        def _backward():\n",
    "            # dy/dx = n*x^(n-1)*g'(x)\n",
    "            self.grad += other * (self.data ** (other-1)) * rv.grad\n",
    "        rv._backward = _backward\n",
    "\n",
    "        return rv\n",
    "    \n",
    "    def __neg__(self):\n",
    "        return self * -1\n",
    "    \n",
    "    def __sub__(self , other):\n",
    "        return self + (-other)\n",
    "    \n",
    "    def __radd__(self , other):  # other + self\n",
    "        return self + other\n",
    "    \n",
    "    def __rmul__(self , other):  # other * self\n",
    "        return self * other\n",
    "    \n",
    "    def __truediv__(self , other):  # self / other\n",
    "        return self * other**-1\n",
    "    \n",
    "\n",
    "    # No dunder methods\n",
    "    def tanh(self):\n",
    "        x = self.data\n",
    "        t = (math.exp(2*x) - 1) / (math.exp(2*x) + 1)\n",
    "        rv = Tensor(t , (self,) , 'tanh')\n",
    "\n",
    "        def _backward():\n",
    "            # dy/dx = 1-tanh^2(x)*g'(x)\n",
    "            self.grad += (1 - t**2) * rv.grad\n",
    "        rv._backward = _backward\n",
    "        \n",
    "        return rv\n",
    "    \n",
    "    def exp(self):  # e^x\n",
    "        x = self.data\n",
    "        rv = Tensor(math.exp(x), (self,) , 'exp')\n",
    "\n",
    "        def _backward():\n",
    "            # dy/dx = e^x\n",
    "            self.grad += rv.data * rv.data\n",
    "        rv._backward = _backward\n",
    "\n",
    "        return rv\n",
    "\n",
    "\n",
    "\n",
    "\n",
    "\n",
    "\n",
    "\n",
    "\n",
    "\n",
    "\n",
    "\n",
    "\n",
    "\n",
    "\n",
    "\n",
    "\n",
    "\n",
    "\n"
   ]
  }
 ],
 "metadata": {
  "kernelspec": {
   "display_name": "Python 3",
   "language": "python",
   "name": "python3"
  },
  "language_info": {
   "codemirror_mode": {
    "name": "ipython",
    "version": 3
   },
   "file_extension": ".py",
   "mimetype": "text/x-python",
   "name": "python",
   "nbconvert_exporter": "python",
   "pygments_lexer": "ipython3",
   "version": "3.11.9"
  }
 },
 "nbformat": 4,
 "nbformat_minor": 2
}
